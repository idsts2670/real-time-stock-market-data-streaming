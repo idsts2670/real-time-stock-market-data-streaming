{
 "cells": [
  {
   "cell_type": "markdown",
   "metadata": {},
   "source": [
    "<b>Alpaca Market API</b>\n",
    "\n",
    "<b>Python Version Support</b>\n",
    "\n",
    "This project supports Python 3.7 and above. \n",
    "If you're using Python 3.6, please note that the following packages have dropped support for Python versions below 3.7:\n",
    "\n",
    "- pandas (version 1.2.0 and above)\n",
    "- numpy (version 1.20.0 and above)\n",
    "- scipy (version 1.6.0 and above)\n",
    "\n",
    "<b>Solution for Python 3.6 Users</b>\n",
    "\n",
    "If you're using Python 3.6, manually install the above packages before installing `alpaca-trade-api`. \n",
    "\n",
    "Use the following command:\n",
    "\n",
    "```bash\n",
    "pip install pandas==1.1.5 numpy==1.19.4 scipy==1.5.4\n",
    "```\n",
    "\n",
    "<b>Installation</b>\n",
    "\n",
    "The alpaca-trade-api available from the alpacahq channel work up to Python 3.8, but it is not compatible with Python 3.9 in the time of Apr 2022\n",
    "```bash\n",
    "!pip3 install alpaca-trade-api\n",
    "```"
   ]
  },
  {
   "cell_type": "markdown",
   "metadata": {},
   "source": [
    "[Free Trading/Stock Data Tested with Python in 2022](https://medium.com/@justege/free-trading-stock-data-tested-with-python-in-2022-bbe2c55fb661)"
   ]
  },
  {
   "cell_type": "code",
   "execution_count": 5,
   "metadata": {},
   "outputs": [],
   "source": [
    "import pandas as pd\n",
    "import numpy as np\n",
    "import scipy as sp\n",
    "from alpaca_trade_api.rest import REST, TimeFrame\n",
    "import alpaca_trade_api as tradeapi"
   ]
  },
  {
   "cell_type": "code",
   "execution_count": null,
   "metadata": {},
   "outputs": [],
   "source": [
    "# api = REST()\n",
    "\n",
    "# api.get_bars(\"AAPL\", TimeFrame.Hour, \"2021-06-08\", \"2021-06-08\", adjustment='raw').df"
   ]
  },
  {
   "cell_type": "markdown",
   "metadata": {},
   "source": [
    "To use this package you first need to obtain an API key. Go here to [signup](https://app.alpaca.markets/brokerage/dashboard/overview)"
   ]
  },
  {
   "cell_type": "code",
   "execution_count": 6,
   "metadata": {},
   "outputs": [],
   "source": [
    "def AlpacaData(Symbols=['AAPL']):\n",
    "    BASE_URL = \"https://paper-api.alpaca.markets\"\n",
    "    KEY_ID = \"YOUR_KEY_ID\"\n",
    "    # Instantiate REST API Connection\n",
    "    SECRET_KEY = \"YOUR_SECRET_KEY\"\n",
    "    api = tradeapi.REST(key_id=KEY_ID,secret_key=SECRET_KEY,base_url=\"https://paper-api.alpaca.markets\")\n",
    "    barTimeframe = \"1M\"  # 1Min, 5Min, 15Min, 1H, 1D. You can aslo use define like api.get( , TimeFrame(45, TimeFrameUnit.Minute), )\n",
    "\n",
    "    # Fetch Account\n",
    "    account = api.get_account()\n",
    "    # Print Account Details\n",
    "    print(account.id, account.equity, account.status)\n",
    "\n",
    "    iteratorPos = 0  # Tracks position in list of symbols to download\n",
    "\n",
    "    for Symbol in Symbols:\n",
    "        # Fetch Apple data from last 100 days\n",
    "        Alpaca_DataFrame = api.get_bars(Symbol, barTimeframe, start=\"2024-05-15 \", end=\"2024-05-10\", adjustment='raw').df\n",
    "        Alpaca_DataFrame['Symbol'] = Symbol\n",
    "        # Preview Data\n",
    "        #Alpaca_DataFrame.to_csv('Alpaca_Data.csv', mode='a', index=False, header=False) #Appending mode\n",
    "        Alpaca_DataFrame.to_csv('/Users/satoshiido/Documents/programming/real-time-stock-market-data-streaming/data/01_Alpaca_Data.csv')"
   ]
  },
  {
   "cell_type": "code",
   "execution_count": null,
   "metadata": {},
   "outputs": [],
   "source": [
    "AlpacaData(Symbols=['AAPL'])"
   ]
  },
  {
   "cell_type": "code",
   "execution_count": null,
   "metadata": {},
   "outputs": [],
   "source": []
  }
 ],
 "metadata": {
  "kernelspec": {
   "display_name": "python38",
   "language": "python",
   "name": "python3"
  },
  "language_info": {
   "codemirror_mode": {
    "name": "ipython",
    "version": 3
   },
   "file_extension": ".py",
   "mimetype": "text/x-python",
   "name": "python",
   "nbconvert_exporter": "python",
   "pygments_lexer": "ipython3",
   "version": "3.8.18"
  }
 },
 "nbformat": 4,
 "nbformat_minor": 2
}
